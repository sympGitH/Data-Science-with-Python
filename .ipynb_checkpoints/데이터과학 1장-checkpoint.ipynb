{
 "cells": [
  {
   "cell_type": "markdown",
   "metadata": {},
   "source": [
    "## 테스트용 파일"
   ]
  },
  {
   "cell_type": "code",
   "execution_count": 2,
   "metadata": {
    "collapsed": true
   },
   "outputs": [],
   "source": [
    "import pandas as pd"
   ]
  },
  {
   "cell_type": "code",
   "execution_count": 1,
   "metadata": {
    "collapsed": false
   },
   "outputs": [
    {
     "data": {
      "text/plain": [
       "'3.5.2'"
      ]
     },
     "execution_count": 1,
     "metadata": {},
     "output_type": "execute_result"
    }
   ],
   "source": [
    "import platform\n",
    "\n",
    "platform.python_version()"
   ]
  },
  {
   "cell_type": "code",
   "execution_count": 3,
   "metadata": {
    "collapsed": false
   },
   "outputs": [
    {
     "name": "stdout",
     "output_type": "stream",
     "text": [
      "a = 1, b = 2 and sum is 3\n"
     ]
    }
   ],
   "source": [
    "a = 1;\n",
    "b = 2;\n",
    "\n",
    "print(\"a = {0}, b = {1} and sum is {2}\".format(a, b, a+b))"
   ]
  },
  {
   "cell_type": "code",
   "execution_count": 4,
   "metadata": {
    "collapsed": true
   },
   "outputs": [],
   "source": [
    "users = [{\"id\": 0, \"name\":\"Hero\"},\n",
    "       {\"id\": 1, \"name\":\"Dunn\"},\n",
    "       {\"id\": 2, \"name\":\"Sue\"},\n",
    "       {\"id\": 3, \"name\":\"Chi\"},\n",
    "       {\"id\": 4, \"name\":\"Thor\"},\n",
    "       {\"id\": 5, \"name\":\"Clive\"},\n",
    "       {\"id\": 6, \"name\":\"Hicks\"},\n",
    "       {\"id\": 7, \"name\":\"Devin\"},\n",
    "       {\"id\": 8, \"name\":\"Kate\"},\n",
    "       {\"id\": 9, \"name\":\"Klein\"}]"
   ]
  },
  {
   "cell_type": "code",
   "execution_count": 5,
   "metadata": {
    "collapsed": true
   },
   "outputs": [],
   "source": [
    "friendships = [(0, 1), (0, 2), (1, 2), (1, 3), (2, 3), (3, 4),\n",
    "              (4, 5), (5, 6), (5, 7), (6, 8), (7, 8), (8, 9)]"
   ]
  },
  {
   "cell_type": "code",
   "execution_count": 6,
   "metadata": {
    "collapsed": false
   },
   "outputs": [],
   "source": [
    "for user in users:\n",
    "    user[\"friends\"] = []"
   ]
  },
  {
   "cell_type": "code",
   "execution_count": 7,
   "metadata": {
    "collapsed": false
   },
   "outputs": [
    {
     "data": {
      "text/plain": [
       "'Hero'"
      ]
     },
     "execution_count": 7,
     "metadata": {},
     "output_type": "execute_result"
    }
   ],
   "source": [
    "users[0][\"name\"]"
   ]
  },
  {
   "cell_type": "code",
   "execution_count": 8,
   "metadata": {
    "collapsed": false
   },
   "outputs": [],
   "source": [
    "for i, j in friendships:\n",
    "    users[i][\"friends\"].append(users[j])\n",
    "    users[j][\"friends\"].append(users[i])"
   ]
  },
  {
   "cell_type": "code",
   "execution_count": 9,
   "metadata": {
    "collapsed": false
   },
   "outputs": [
    {
     "data": {
      "text/plain": [
       "[{'friends': [{'friends': [{'friends': [{'friends': [{'friends': [{'friends': [{...},\n",
       "             {'friends': [{...}, {...}, {...}], 'id': 2, 'name': 'Sue'}],\n",
       "            'id': 0,\n",
       "            'name': 'Hero'},\n",
       "           {'friends': [{'friends': [{...}, {...}], 'id': 0, 'name': 'Hero'},\n",
       "             {...},\n",
       "             {...}],\n",
       "            'id': 2,\n",
       "            'name': 'Sue'},\n",
       "           {...}],\n",
       "          'id': 1,\n",
       "          'name': 'Dunn'},\n",
       "         {'friends': [{'friends': [{'friends': [{...}, {...}, {...}],\n",
       "              'id': 1,\n",
       "              'name': 'Dunn'},\n",
       "             {...}],\n",
       "            'id': 0,\n",
       "            'name': 'Hero'},\n",
       "           {'friends': [{'friends': [{...}, {...}], 'id': 0, 'name': 'Hero'},\n",
       "             {...},\n",
       "             {...}],\n",
       "            'id': 1,\n",
       "            'name': 'Dunn'},\n",
       "           {...}],\n",
       "          'id': 2,\n",
       "          'name': 'Sue'},\n",
       "         {...}],\n",
       "        'id': 3,\n",
       "        'name': 'Chi'},\n",
       "       {...}],\n",
       "      'id': 4,\n",
       "      'name': 'Thor'},\n",
       "     {...},\n",
       "     {'friends': [{...}, {'friends': [...], 'id': 8, 'name': 'Kate'}],\n",
       "      'id': 7,\n",
       "      'name': 'Devin'}],\n",
       "    'id': 5,\n",
       "    'name': 'Clive'},\n",
       "   {'friends': [...], 'id': 8, 'name': 'Kate'}],\n",
       "  'id': 6,\n",
       "  'name': 'Hicks'},\n",
       " {'friends': [{'friends': [{'friends': [{'friends': [{'friends': [{'friends': [{...},\n",
       "             {'friends': [{...}, {...}, {...}], 'id': 2, 'name': 'Sue'}],\n",
       "            'id': 0,\n",
       "            'name': 'Hero'},\n",
       "           {'friends': [{'friends': [{...}, {...}], 'id': 0, 'name': 'Hero'},\n",
       "             {...},\n",
       "             {...}],\n",
       "            'id': 2,\n",
       "            'name': 'Sue'},\n",
       "           {...}],\n",
       "          'id': 1,\n",
       "          'name': 'Dunn'},\n",
       "         {'friends': [{'friends': [{'friends': [{...}, {...}, {...}],\n",
       "              'id': 1,\n",
       "              'name': 'Dunn'},\n",
       "             {...}],\n",
       "            'id': 0,\n",
       "            'name': 'Hero'},\n",
       "           {'friends': [{'friends': [{...}, {...}], 'id': 0, 'name': 'Hero'},\n",
       "             {...},\n",
       "             {...}],\n",
       "            'id': 1,\n",
       "            'name': 'Dunn'},\n",
       "           {...}],\n",
       "          'id': 2,\n",
       "          'name': 'Sue'},\n",
       "         {...}],\n",
       "        'id': 3,\n",
       "        'name': 'Chi'},\n",
       "       {...}],\n",
       "      'id': 4,\n",
       "      'name': 'Thor'},\n",
       "     {'friends': [{...}, {'friends': [...], 'id': 8, 'name': 'Kate'}],\n",
       "      'id': 6,\n",
       "      'name': 'Hicks'},\n",
       "     {...}],\n",
       "    'id': 5,\n",
       "    'name': 'Clive'},\n",
       "   {'friends': [...], 'id': 8, 'name': 'Kate'}],\n",
       "  'id': 7,\n",
       "  'name': 'Devin'},\n",
       " {'friends': [{'friends': [...], 'id': 8, 'name': 'Kate'}],\n",
       "  'id': 9,\n",
       "  'name': 'Klein'}]"
      ]
     },
     "execution_count": 9,
     "metadata": {},
     "output_type": "execute_result"
    }
   ],
   "source": [
    "users[i][\"friends\"]"
   ]
  },
  {
   "cell_type": "code",
   "execution_count": 10,
   "metadata": {
    "collapsed": true
   },
   "outputs": [],
   "source": [
    "def number_of_friends(user):\n",
    "    return len(user[\"friends\"])\n",
    "\n",
    "total_connections = sum(number_of_friends(user) for user in users)"
   ]
  },
  {
   "cell_type": "code",
   "execution_count": 11,
   "metadata": {
    "collapsed": false
   },
   "outputs": [
    {
     "data": {
      "text/plain": [
       "24"
      ]
     },
     "execution_count": 11,
     "metadata": {},
     "output_type": "execute_result"
    }
   ],
   "source": [
    "total_connections"
   ]
  },
  {
   "cell_type": "code",
   "execution_count": 12,
   "metadata": {
    "collapsed": true
   },
   "outputs": [],
   "source": [
    "from __future__ import division\n",
    "num_users = len(users)\n",
    "avg_connections = total_connections / num_users"
   ]
  },
  {
   "cell_type": "code",
   "execution_count": 13,
   "metadata": {
    "collapsed": false
   },
   "outputs": [
    {
     "data": {
      "text/plain": [
       "2.4"
      ]
     },
     "execution_count": 13,
     "metadata": {},
     "output_type": "execute_result"
    }
   ],
   "source": [
    "avg_connections"
   ]
  },
  {
   "cell_type": "code",
   "execution_count": 14,
   "metadata": {
    "collapsed": false
   },
   "outputs": [],
   "source": [
    "num_friends_by_id = [(user[\"id\"], number_of_friends(user)) for user in users]"
   ]
  },
  {
   "cell_type": "code",
   "execution_count": 15,
   "metadata": {
    "collapsed": false
   },
   "outputs": [
    {
     "ename": "SyntaxError",
     "evalue": "invalid syntax (<ipython-input-15-89355e3a5179>, line 1)",
     "output_type": "error",
     "traceback": [
      "\u001b[0;36m  File \u001b[0;32m\"<ipython-input-15-89355e3a5179>\"\u001b[0;36m, line \u001b[0;32m1\u001b[0m\n\u001b[0;31m    sorted(num_friends_by_id, key=lambda (user_id, num_friends): num_friends, reverse=True)\u001b[0m\n\u001b[0m                                         ^\u001b[0m\n\u001b[0;31mSyntaxError\u001b[0m\u001b[0;31m:\u001b[0m invalid syntax\n"
     ]
    }
   ],
   "source": [
    "sorted(num_friends_by_id, key=lambda (user_id, num_friends): num_friends, reverse=True)"
   ]
  },
  {
   "cell_type": "code",
   "execution_count": 16,
   "metadata": {
    "collapsed": true
   },
   "outputs": [
    {
     "name": "stdout",
     "output_type": "stream",
     "text": [
      "The Zen of Python, by Tim Peters\n",
      "\n",
      "Beautiful is better than ugly.\n",
      "Explicit is better than implicit.\n",
      "Simple is better than complex.\n",
      "Complex is better than complicated.\n",
      "Flat is better than nested.\n",
      "Sparse is better than dense.\n",
      "Readability counts.\n",
      "Special cases aren't special enough to break the rules.\n",
      "Although practicality beats purity.\n",
      "Errors should never pass silently.\n",
      "Unless explicitly silenced.\n",
      "In the face of ambiguity, refuse the temptation to guess.\n",
      "There should be one-- and preferably only one --obvious way to do it.\n",
      "Although that way may not be obvious at first unless you're Dutch.\n",
      "Now is better than never.\n",
      "Although never is often better than *right* now.\n",
      "If the implementation is hard to explain, it's a bad idea.\n",
      "If the implementation is easy to explain, it may be a good idea.\n",
      "Namespaces are one honking great idea -- let's do more of those!\n"
     ]
    }
   ],
   "source": [
    "import this"
   ]
  },
  {
   "cell_type": "code",
   "execution_count": 19,
   "metadata": {
    "collapsed": true
   },
   "outputs": [
    {
     "name": "stdout",
     "output_type": "stream",
     "text": [
      "1\n",
      "1\n",
      "2\n",
      "2\n",
      "3\n",
      "3\n",
      "4\n",
      "4\n",
      "5\n",
      "5\n",
      "6\n",
      "1\n",
      "2\n",
      "1\n",
      "3\n",
      "2\n",
      "4\n",
      "3\n",
      "5\n",
      "4\n",
      "6\n",
      "5\n",
      "7\n",
      "2\n",
      "3\n",
      "1\n",
      "4\n",
      "2\n",
      "5\n",
      "3\n",
      "6\n",
      "4\n",
      "7\n",
      "5\n",
      "8\n",
      "3\n",
      "4\n",
      "1\n",
      "5\n",
      "2\n",
      "6\n",
      "3\n",
      "7\n",
      "4\n",
      "8\n",
      "5\n",
      "9\n",
      "4\n",
      "5\n",
      "1\n",
      "6\n",
      "2\n",
      "7\n",
      "3\n",
      "8\n",
      "4\n",
      "9\n",
      "5\n",
      "10\n",
      "5\n",
      "done looping\n"
     ]
    }
   ],
   "source": [
    "for i in [1, 2, 3, 4, 5]:\n",
    "    print(i)\n",
    "    for j in [1, 2, 3, 4, 5]:\n",
    "        print(j)\n",
    "        print(i + j)\n",
    "    print(i)\n",
    "print(\"done looping\")"
   ]
  },
  {
   "cell_type": "code",
   "execution_count": 20,
   "metadata": {
    "collapsed": true
   },
   "outputs": [],
   "source": [
    "import platform"
   ]
  },
  {
   "cell_type": "code",
   "execution_count": 21,
   "metadata": {
    "collapsed": false
   },
   "outputs": [
    {
     "data": {
      "text/plain": [
       "'3.5.1'"
      ]
     },
     "execution_count": 21,
     "metadata": {},
     "output_type": "execute_result"
    }
   ],
   "source": [
    "platform.python_version()"
   ]
  },
  {
   "cell_type": "code",
   "execution_count": null,
   "metadata": {
    "collapsed": true
   },
   "outputs": [],
   "source": []
  }
 ],
 "metadata": {
  "kernelspec": {
   "display_name": "Python [Py35]",
   "language": "python",
   "name": "Python [Py35]"
  },
  "language_info": {
   "codemirror_mode": {
    "name": "ipython",
    "version": 3
   },
   "file_extension": ".py",
   "mimetype": "text/x-python",
   "name": "python",
   "nbconvert_exporter": "python",
   "pygments_lexer": "ipython3",
   "version": "3.5.2"
  }
 },
 "nbformat": 4,
 "nbformat_minor": 0
}
