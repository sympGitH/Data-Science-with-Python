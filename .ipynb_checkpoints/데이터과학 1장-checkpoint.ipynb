{
 "cells": [
  {
   "cell_type": "markdown",
   "metadata": {},
   "source": [
    "## 테스트용 파일"
   ]
  },
  {
   "cell_type": "code",
   "execution_count": 1,
   "metadata": {
    "collapsed": true
   },
   "outputs": [],
   "source": [
    "import pandas as pd"
   ]
  },
  {
   "cell_type": "code",
   "execution_count": 3,
   "metadata": {
    "collapsed": false
   },
   "outputs": [
    {
     "name": "stdout",
     "output_type": "stream",
     "text": [
      "a = 1, b = 2 and sum is 3\n"
     ]
    }
   ],
   "source": [
    "a = 1;\n",
    "b = 2;\n",
    "\n",
    "print(\"a = {0}, b = {1} and sum is {2}\".format(a, b, a+b))"
   ]
  },
  {
   "cell_type": "code",
   "execution_count": 7,
   "metadata": {
    "collapsed": true
   },
   "outputs": [],
   "source": [
    "users = [{\"id\": 0, \"name\":\"Hero\"},\n",
    "       {\"id\": 1, \"name\":\"Dunn\"},\n",
    "       {\"id\": 2, \"name\":\"Sue\"},\n",
    "       {\"id\": 3, \"name\":\"Chi\"},\n",
    "       {\"id\": 4, \"name\":\"Thor\"},\n",
    "       {\"id\": 5, \"name\":\"Clive\"},\n",
    "       {\"id\": 6, \"name\":\"Hicks\"},\n",
    "       {\"id\": 7, \"name\":\"Devin\"},\n",
    "       {\"id\": 8, \"name\":\"Kate\"},\n",
    "       {\"id\": 9, \"name\":\"Klein\"}]"
   ]
  },
  {
   "cell_type": "code",
   "execution_count": 8,
   "metadata": {
    "collapsed": true
   },
   "outputs": [],
   "source": [
    "friendships = [(0, 1), (0, 2), (1, 2), (1, 3), (2, 3), (3, 4),\n",
    "              (4, 5), (5, 6), (5, 7), (6, 8), (7, 8), (8, 9)]"
   ]
  },
  {
   "cell_type": "code",
   "execution_count": 9,
   "metadata": {
    "collapsed": false
   },
   "outputs": [],
   "source": [
    "for user in users:\n",
    "    user[\"friends\"] = []"
   ]
  },
  {
   "cell_type": "code",
   "execution_count": 27,
   "metadata": {
    "collapsed": false
   },
   "outputs": [
    {
     "data": {
      "text/plain": [
       "'Hero'"
      ]
     },
     "execution_count": 27,
     "metadata": {},
     "output_type": "execute_result"
    }
   ],
   "source": [
    "users[0][\"name\"]"
   ]
  },
  {
   "cell_type": "code",
   "execution_count": 29,
   "metadata": {
    "collapsed": false
   },
   "outputs": [],
   "source": [
    "for i, j in friendships:\n",
    "    users[i][\"friends\"].append(users[j])\n",
    "    users[j][\"friends\"].append(users[i])"
   ]
  },
  {
   "cell_type": "code",
   "execution_count": 30,
   "metadata": {
    "collapsed": false
   },
   "outputs": [
    {
     "data": {
      "text/plain": [
       "[{'friends': [{'friends': [{'friends': [{'friends': [{'friends': [{'friends': [{...},\n",
       "             {'friends': [{...}, {...}, {...}], 'id': 2, 'name': 'Sue'}],\n",
       "            'id': 0,\n",
       "            'name': 'Hero'},\n",
       "           {'friends': [{'friends': [{...}, {...}], 'id': 0, 'name': 'Hero'},\n",
       "             {...},\n",
       "             {...}],\n",
       "            'id': 2,\n",
       "            'name': 'Sue'},\n",
       "           {...}],\n",
       "          'id': 1,\n",
       "          'name': 'Dunn'},\n",
       "         {'friends': [{'friends': [{'friends': [{...}, {...}, {...}],\n",
       "              'id': 1,\n",
       "              'name': 'Dunn'},\n",
       "             {...}],\n",
       "            'id': 0,\n",
       "            'name': 'Hero'},\n",
       "           {'friends': [{'friends': [{...}, {...}], 'id': 0, 'name': 'Hero'},\n",
       "             {...},\n",
       "             {...}],\n",
       "            'id': 1,\n",
       "            'name': 'Dunn'},\n",
       "           {...}],\n",
       "          'id': 2,\n",
       "          'name': 'Sue'},\n",
       "         {...}],\n",
       "        'id': 3,\n",
       "        'name': 'Chi'},\n",
       "       {...}],\n",
       "      'id': 4,\n",
       "      'name': 'Thor'},\n",
       "     {...},\n",
       "     {'friends': [{...}, {'friends': [...], 'id': 8, 'name': 'Kate'}],\n",
       "      'id': 7,\n",
       "      'name': 'Devin'}],\n",
       "    'id': 5,\n",
       "    'name': 'Clive'},\n",
       "   {'friends': [...], 'id': 8, 'name': 'Kate'}],\n",
       "  'id': 6,\n",
       "  'name': 'Hicks'},\n",
       " {'friends': [{'friends': [{'friends': [{'friends': [{'friends': [{'friends': [{...},\n",
       "             {'friends': [{...}, {...}, {...}], 'id': 2, 'name': 'Sue'}],\n",
       "            'id': 0,\n",
       "            'name': 'Hero'},\n",
       "           {'friends': [{'friends': [{...}, {...}], 'id': 0, 'name': 'Hero'},\n",
       "             {...},\n",
       "             {...}],\n",
       "            'id': 2,\n",
       "            'name': 'Sue'},\n",
       "           {...}],\n",
       "          'id': 1,\n",
       "          'name': 'Dunn'},\n",
       "         {'friends': [{'friends': [{'friends': [{...}, {...}, {...}],\n",
       "              'id': 1,\n",
       "              'name': 'Dunn'},\n",
       "             {...}],\n",
       "            'id': 0,\n",
       "            'name': 'Hero'},\n",
       "           {'friends': [{'friends': [{...}, {...}], 'id': 0, 'name': 'Hero'},\n",
       "             {...},\n",
       "             {...}],\n",
       "            'id': 1,\n",
       "            'name': 'Dunn'},\n",
       "           {...}],\n",
       "          'id': 2,\n",
       "          'name': 'Sue'},\n",
       "         {...}],\n",
       "        'id': 3,\n",
       "        'name': 'Chi'},\n",
       "       {...}],\n",
       "      'id': 4,\n",
       "      'name': 'Thor'},\n",
       "     {'friends': [{...}, {'friends': [...], 'id': 8, 'name': 'Kate'}],\n",
       "      'id': 6,\n",
       "      'name': 'Hicks'},\n",
       "     {...}],\n",
       "    'id': 5,\n",
       "    'name': 'Clive'},\n",
       "   {'friends': [...], 'id': 8, 'name': 'Kate'}],\n",
       "  'id': 7,\n",
       "  'name': 'Devin'},\n",
       " {'friends': [{'friends': [...], 'id': 8, 'name': 'Kate'}],\n",
       "  'id': 9,\n",
       "  'name': 'Klein'}]"
      ]
     },
     "execution_count": 30,
     "metadata": {},
     "output_type": "execute_result"
    }
   ],
   "source": [
    "users[i][\"friends\"]"
   ]
  },
  {
   "cell_type": "code",
   "execution_count": 31,
   "metadata": {
    "collapsed": true
   },
   "outputs": [],
   "source": [
    "def number_of_friends(user):\n",
    "    return len(user[\"friends\"])\n",
    "\n",
    "total_connections = sum(number_of_friends(user) for user in users)"
   ]
  },
  {
   "cell_type": "code",
   "execution_count": 32,
   "metadata": {
    "collapsed": false
   },
   "outputs": [
    {
     "data": {
      "text/plain": [
       "24"
      ]
     },
     "execution_count": 32,
     "metadata": {},
     "output_type": "execute_result"
    }
   ],
   "source": [
    "total_connections"
   ]
  },
  {
   "cell_type": "code",
   "execution_count": 33,
   "metadata": {
    "collapsed": true
   },
   "outputs": [],
   "source": [
    "from __future__ import division\n",
    "num_users = len(users)\n",
    "avg_connections = total_connections / num_users"
   ]
  },
  {
   "cell_type": "code",
   "execution_count": 34,
   "metadata": {
    "collapsed": false
   },
   "outputs": [
    {
     "data": {
      "text/plain": [
       "2.4"
      ]
     },
     "execution_count": 34,
     "metadata": {},
     "output_type": "execute_result"
    }
   ],
   "source": [
    "avg_connections"
   ]
  },
  {
   "cell_type": "code",
   "execution_count": 39,
   "metadata": {
    "collapsed": false
   },
   "outputs": [],
   "source": [
    "num_friends_by_id = [(user[\"id\"], number_of_friends(user)) for user in users]"
   ]
  },
  {
   "cell_type": "code",
   "execution_count": 41,
   "metadata": {
    "collapsed": false
   },
   "outputs": [
    {
     "ename": "SyntaxError",
     "evalue": "invalid syntax (<ipython-input-41-ae663f024ed7>, line 1)",
     "output_type": "error",
     "traceback": [
      "\u001b[0;36m  File \u001b[0;32m\"<ipython-input-41-ae663f024ed7>\"\u001b[0;36m, line \u001b[0;32m1\u001b[0m\n\u001b[0;31m    sorted(num_friends_by_id, key=lambda (user_id, num_friends): num_friends,\u001b[0m\n\u001b[0m                                         ^\u001b[0m\n\u001b[0;31mSyntaxError\u001b[0m\u001b[0;31m:\u001b[0m invalid syntax\n"
     ]
    }
   ],
   "source": [
    "sorted(num_friends_by_id, key=lambda (user_id, num_friends): num_friends, reverse=True)"
   ]
  },
  {
   "cell_type": "code",
   "execution_count": null,
   "metadata": {
    "collapsed": true
   },
   "outputs": [],
   "source": []
  }
 ],
 "metadata": {
  "kernelspec": {
   "display_name": "Python 3",
   "language": "python",
   "name": "python3"
  },
  "language_info": {
   "codemirror_mode": {
    "name": "ipython",
    "version": 3
   },
   "file_extension": ".py",
   "mimetype": "text/x-python",
   "name": "python",
   "nbconvert_exporter": "python",
   "pygments_lexer": "ipython3",
   "version": "3.5.1"
  }
 },
 "nbformat": 4,
 "nbformat_minor": 0
}
