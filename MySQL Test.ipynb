{
 "cells": [
  {
   "cell_type": "markdown",
   "metadata": {},
   "source": [
    "## MySQL Sample\n",
    "* http://pythonstudy.xyz/python/article/202-MySQL-쿼리\n",
    "\n",
    "- 아직 실행은 안해봄"
   ]
  },
  {
   "cell_type": "code",
   "execution_count": 5,
   "metadata": {
    "collapsed": false
   },
   "outputs": [
    {
     "name": "stdout",
     "output_type": "stream",
     "text": [
      "((1, 'koon', 'youn koon'),)\n"
     ]
    }
   ],
   "source": [
    "import pymysql\n",
    "\n",
    "strPWD = 'votmdnjem'\n",
    "\n",
    "# MySQL Connection 연결\n",
    "conn = pymysql.connect(host='ec2-52-78-53-220.ap-northeast-2.compute.amazonaws.com', user='koon', password=strPWD,\n",
    "                       db='testdb', charset='utf8')\n",
    " \n",
    "# Connection 으로부터 Cursor 생성\n",
    "curs = conn.cursor()\n",
    " \n",
    "# SQL문 실행\n",
    "sql = \"select * from users\"\n",
    "curs.execute(sql)\n",
    " \n",
    "# 데이타 Fetch\n",
    "rows = curs.fetchall()\n",
    "print(rows)     # 전체 rows\n",
    "# print(rows[0])  # 첫번째 row: (1, '김정수', 1, '서울')\n",
    "# print(rows[1])  # 두번째 row: (2, '강수정', 2, '서울')\n",
    " \n",
    "# Connection 닫기\n",
    "conn.close()"
   ]
  },
  {
   "cell_type": "code",
   "execution_count": null,
   "metadata": {
    "collapsed": true
   },
   "outputs": [],
   "source": [
    "import pymysql\n",
    " \n",
    "# MySQL Connection 연결\n",
    "conn = pymysql.connect(host='ec2-52-78-53-220.ap-northeast-2.compute.amazonaws.com', user='koon', password=strPWD,\n",
    "                       db='testdb', charset='utf8')\n",
    " \n",
    "# Connection 으로부터 Dictoionary Cursor 생성\n",
    "curs = conn.cursor(pymysql.cursors.DictCursor)\n",
    " \n",
    "# SQL문 실행\n",
    "sql = \"select * from customer where category=%s and region=%s\"\n",
    "curs.execute(sql, (1, '서울'))\n",
    " \n",
    "# 데이타 Fetch\n",
    "rows = curs.fetchall()\n",
    "for row in rows:\n",
    "    print(row)\n",
    "    # 출력 : {'category': 1, 'id': 1, 'region': '서울', 'name': '김정수'}\n",
    "    print(row['id'], row['name'], row['region'])\n",
    "    # 1 김정수 서울\n",
    " \n",
    "# Connection 닫기\n",
    "conn.close()"
   ]
  },
  {
   "cell_type": "code",
   "execution_count": null,
   "metadata": {
    "collapsed": true
   },
   "outputs": [],
   "source": [
    "import pymysql\n",
    " \n",
    "conn = pymysql.connect(host='ec2-52-78-53-220.ap-northeast-2.compute.amazonaws.com', user='koon', password=strPWD,\n",
    "                       db='testdb', charset='utf8')\n",
    " \n",
    "curs = conn.cursor()\n",
    "sql = \"\"\"insert into customer(name,category,region)\n",
    "         values (%s, %s, %s)\"\"\"\n",
    "curs.execute(sql, ('홍길동', 1, '서울'))\n",
    "curs.execute(sql, ('이연수', 2, '서울'))\n",
    "conn.commit()\n",
    " \n",
    "conn.close()"
   ]
  },
  {
   "cell_type": "code",
   "execution_count": null,
   "metadata": {
    "collapsed": true
   },
   "outputs": [],
   "source": [
    "data = (\n",
    "    ('홍진우', 1, '서울'),\n",
    "    ('강지수', 2, '부산'),\n",
    "    ('김청진', 1, '서울'),\n",
    ")\n",
    "sql = \"\"\"insert into customer(name,category,region)\n",
    "         values (%s, %s, %s)\"\"\"\n",
    "curs.executemany(sql, data)\n",
    "conn.commit()"
   ]
  },
  {
   "cell_type": "code",
   "execution_count": null,
   "metadata": {
    "collapsed": true
   },
   "outputs": [],
   "source": [
    "import pymysql\n",
    " \n",
    "conn = pymysql.connect(host='ec2-52-78-53-220.ap-northeast-2.compute.amazonaws.com', user='koon', password=strPWD,\n",
    "                       db='testdb', charset='utf8')\n",
    " \n",
    "curs = conn.cursor()\n",
    "sql = \"\"\"update customer\n",
    "         set region = '서울특별시'\n",
    "         where region = '서울'\"\"\"\n",
    "curs.execute(sql)\n",
    " \n",
    "sql = \"delete from customer where id=%s\"\n",
    "curs.execute(sql, 6)\n",
    " \n",
    "conn.commit()\n",
    "conn.close()"
   ]
  },
  {
   "cell_type": "code",
   "execution_count": null,
   "metadata": {
    "collapsed": true
   },
   "outputs": [],
   "source": [
    "import pymysql\n",
    " \n",
    "conn = pymysql.connect(host='ec2-52-78-53-220.ap-northeast-2.compute.amazonaws.com', user='koon', password=strPWD,\n",
    "                       db='testdb', charset='utf8')\n",
    " \n",
    "try:\n",
    "    # INSERT\n",
    "    with conn.cursor() as curs:\n",
    "        sql = \"insert into customer(name,category,region) values (%s, %s, %s)\"\n",
    "        curs.execute(sql, ('이광수', 1, '서울'))\n",
    " \n",
    "    conn.commit()\n",
    " \n",
    "    # SELECT\n",
    "    with conn.cursor() as curs:\n",
    "        sql = \"select * FROM customer\"\n",
    "        curs.execute(sql)\n",
    "        rs = curs.fetchall()\n",
    "        for row in rs:\n",
    "            print(row)\n",
    " \n",
    "finally:\n",
    "    conn.close()"
   ]
  },
  {
   "cell_type": "code",
   "execution_count": null,
   "metadata": {
    "collapsed": true
   },
   "outputs": [],
   "source": []
  }
 ],
 "metadata": {
  "anaconda-cloud": {},
  "kernelspec": {
   "display_name": "Python [Py35]",
   "language": "python",
   "name": "Python [Py35]"
  },
  "language_info": {
   "codemirror_mode": {
    "name": "ipython",
    "version": 3
   },
   "file_extension": ".py",
   "mimetype": "text/x-python",
   "name": "python",
   "nbconvert_exporter": "python",
   "pygments_lexer": "ipython3",
   "version": "3.5.2"
  }
 },
 "nbformat": 4,
 "nbformat_minor": 0
}
