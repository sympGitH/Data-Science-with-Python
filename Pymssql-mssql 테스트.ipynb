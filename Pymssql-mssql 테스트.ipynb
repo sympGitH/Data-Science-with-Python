{
 "cells": [
  {
   "cell_type": "markdown",
   "metadata": {},
   "source": [
    "## Pymssql 테스트 \n",
    "* _mssql 예제 : http://pymssql.org/en/latest/_mssql_examples.html\n",
    "* pymssql 예제 : http://pymssql.org/en/latest/pymssql_examples.html"
   ]
  },
  {
   "cell_type": "code",
   "execution_count": 1,
   "metadata": {
    "collapsed": false
   },
   "outputs": [
    {
     "name": "stdout",
     "output_type": "stream",
     "text": [
      "성공!!!\n"
     ]
    }
   ],
   "source": [
    "import _mssql\n",
    "\n",
    "# 아래의 with 문을 사용하게 되면 conn.close() 를 별도 호출할 필요가 없음\n",
    "# 일반적인 코드 : conn = _mssql.connect(server='172.16.220.240', user='usrPython', password='vkdlTjs', database='DSDBA')\n",
    "\n",
    "with _mssql.connect(server='172.16.220.240', user='usrPython', password='vkdlTjs', database='DSDBA') as conn:\n",
    "    conn.execute_non_query(\"if object_id('persons') is not null DROP TABLE persons\")\n",
    "\n",
    "    conn.execute_non_query('CREATE TABLE persons(id INT, name VARCHAR(100))')\n",
    "    conn.execute_non_query(\"INSERT INTO persons VALUES(1, 'John Doe')\")\n",
    "    conn.execute_non_query(\"INSERT INTO persons VALUES(2, 'Jane Doe')\")\n",
    "\n",
    "    conn.execute_non_query(\"DROP TABLE persons\")\n",
    "\n",
    "print(\"성공!!!\")"
   ]
  },
  {
   "cell_type": "code",
   "execution_count": 12,
   "metadata": {
    "collapsed": false
   },
   "outputs": [
    {
     "name": "stdout",
     "output_type": "stream",
     "text": [
      "code : 1, codename : NONE\n",
      "code : 2, codename : MSCS\n",
      "code : 3, codename : RAC\n",
      "code : 4, codename : Auto Start\n",
      "code : 5, codename : N/A\n",
      "code : 6, codename : 1등급\n",
      "code : 7, codename : 2등급\n",
      "code : 8, codename : 3등급\n",
      "code : 9, codename : 4등급\n",
      "code : 10, codename : 5등급\n"
     ]
    }
   ],
   "source": [
    "with _mssql.connect(server='172.16.220.240', user='usrPython', password='vkdlTjs', database='DSDBA') as conn:\n",
    "    conn.execute_query(\"SELECT code, codename FROM code WHERE useYN='Y' and code < 11\")\n",
    "    for row in conn:\n",
    "        print('code : {0}, codename : {1}'.format(row['code'], row['codename']))"
   ]
  },
  {
   "cell_type": "code",
   "execution_count": 15,
   "metadata": {
    "collapsed": false
   },
   "outputs": [
    {
     "name": "stdout",
     "output_type": "stream",
     "text": [
      "False\n"
     ]
    }
   ],
   "source": [
    "with _mssql.connect(server='172.16.220.240', user='usrPython', password='vkdlTjs', database='DSDBA') as conn:\n",
    "\n",
    "    # examples of other query functions\n",
    "    numemployees = conn.execute_scalar(\"SELECT COUNT(*) FROM code\")\n",
    "    numemployees = conn.execute_scalar(\"SELECT COUNT(*) FROM code WHERE code in (1, 2, 3, 5)\")\n",
    "    employeedata = conn.execute_row(\"SELECT code, codename FROM code WHERE code > 1\")\n",
    "\n",
    "print(conn.connected)"
   ]
  },
  {
   "cell_type": "code",
   "execution_count": 5,
   "metadata": {
    "collapsed": false
   },
   "outputs": [],
   "source": [
    "with _mssql.connect(server='172.16.220.240', user='usrPython', password='vkdlTjs', database='DSDBA') as conn:\n",
    "\n",
    "    conn.execute_query('sp_spaceused')   # sp_spaceused without arguments returns 2 result sets\n",
    "    res1 = [ row for row in conn ]       # 1st result\n",
    "    res2 = [ row for row in conn ]       # 2nd result\n",
    "\n",
    "    results = res1 + res2\n",
    "\n",
    "    results"
   ]
  },
  {
   "cell_type": "code",
   "execution_count": 16,
   "metadata": {
    "collapsed": false
   },
   "outputs": [
    {
     "name": "stdout",
     "output_type": "stream",
     "text": [
      "Table already existed!!!\n"
     ]
    }
   ],
   "source": [
    "# 에러처리~\n",
    "with _mssql.connect(server='172.16.220.240', user='usrPython', password='vkdlTjs', database='DSDBA') as conn:\n",
    "    conn.execute_non_query(\"if object_id('t1') is not null drop table t1; CREATE TABLE t1(id INT, name VARCHAR(50))\")\n",
    "\n",
    "    try:\n",
    "        conn.execute_non_query('CREATE TABLE t1(id INT, name VARCHAR(50))')\n",
    "    except _mssql.MssqlDatabaseException as e:\n",
    "        if e.number == 2714 and e.severity == 16:\n",
    "            # table already existed, so quieten the error\n",
    "            print(\"Table already existed!!!\")\n",
    "        else:\n",
    "            raise # re-raise real error\n",
    "            print(\"Drop and recreate!!\")\n",
    "    finally:\n",
    "        conn.close()"
   ]
  },
  {
   "cell_type": "markdown",
   "metadata": {},
   "source": [
    "## 이건 실행 안되는 예제 (수정해야 함)"
   ]
  },
  {
   "cell_type": "code",
   "execution_count": null,
   "metadata": {
    "collapsed": true
   },
   "outputs": [],
   "source": [
    "from os import getenv\n",
    "import pymssql\n",
    "\n",
    "server = getenv(\"PYMSSQL_TEST_SERVER\")\n",
    "user = getenv(\"PYMSSQL_TEST_USERNAME\")\n",
    "password = getenv(\"PYMSSQL_TEST_PASSWORD\")\n",
    "\n",
    "conn = pymssql.connect(server, user, password, \"tempdb\")\n",
    "cursor = conn.cursor()\n",
    "cursor.execute(\"\"\"\n",
    "IF OBJECT_ID('persons', 'U') IS NOT NULL\n",
    "    DROP TABLE persons\n",
    "CREATE TABLE persons (\n",
    "    id INT NOT NULL,\n",
    "    name VARCHAR(100),\n",
    "    salesrep VARCHAR(100),\n",
    "    PRIMARY KEY(id)\n",
    ")\n",
    "\"\"\")\n",
    "cursor.executemany(\n",
    "    \"INSERT INTO persons VALUES (%d, %s, %s)\",\n",
    "    [(1, 'John Smith', 'John Doe'),\n",
    "     (2, 'Jane Doe', 'Joe Dog'),\n",
    "     (3, 'Mike T.', 'Sarah H.')])\n",
    "# you must call commit() to persist your data if you don't set autocommit to True\n",
    "conn.commit()\n",
    "\n",
    "cursor.execute('SELECT * FROM persons WHERE salesrep=%s', 'John Doe')\n",
    "row = cursor.fetchone()\n",
    "while row:\n",
    "    print(\"ID=%d, Name=%s\" % (row[0], row[1]))\n",
    "    row = cursor.fetchone()\n",
    "\n",
    "conn.close()"
   ]
  },
  {
   "cell_type": "markdown",
   "metadata": {},
   "source": [
    "### Connecting using Windows Authentication"
   ]
  },
  {
   "cell_type": "code",
   "execution_count": null,
   "metadata": {
    "collapsed": true
   },
   "outputs": [],
   "source": [
    "conn = pymssql.connect(\n",
    "    host=r'dbhostname\\myinstance',\n",
    "    user=r'companydomain\\username',\n",
    "    password=PASSWORD,\n",
    "    database='DatabaseOfInterest'\n",
    ")"
   ]
  },
  {
   "cell_type": "markdown",
   "metadata": {},
   "source": [
    "### Iterating through results"
   ]
  },
  {
   "cell_type": "code",
   "execution_count": null,
   "metadata": {
    "collapsed": true
   },
   "outputs": [],
   "source": [
    "conn = pymssql.connect(server, user, password, \"tempdb\")\n",
    "cursor = conn.cursor()\n",
    "cursor.execute('SELECT * FROM persons WHERE salesrep=%s', 'John Doe')\n",
    "\n",
    "for row in cursor:\n",
    "    print('row = %r' % (row,))\n",
    "\n",
    "conn.close()"
   ]
  },
  {
   "cell_type": "markdown",
   "metadata": {},
   "source": [
    "### Important note about Cursors"
   ]
  },
  {
   "cell_type": "code",
   "execution_count": null,
   "metadata": {
    "collapsed": true
   },
   "outputs": [],
   "source": [
    "c1 = conn.cursor()\n",
    "c1.execute('SELECT * FROM persons')\n",
    "\n",
    "c2 = conn.cursor()\n",
    "c2.execute('SELECT * FROM persons WHERE salesrep=%s', 'John Doe')\n",
    "\n",
    "print( \"all persons\" )\n",
    "print( c1.fetchall() )  # shows result from c2 query!\n",
    "\n",
    "print( \"John Doe\" )\n",
    "print( c2.fetchall() )  # shows no results at all!"
   ]
  },
  {
   "cell_type": "code",
   "execution_count": null,
   "metadata": {
    "collapsed": true
   },
   "outputs": [],
   "source": [
    "c1.execute('SELECT ...')\n",
    "c1_list = c1.fetchall()\n",
    "\n",
    "c2.execute('SELECT ...')\n",
    "c2_list = c2.fetchall()\n",
    "\n",
    "# use c1_list and c2_list here instead of fetching individually from\n",
    "# c1 and c2"
   ]
  },
  {
   "cell_type": "markdown",
   "metadata": {},
   "source": [
    "### Rows as dictionaries"
   ]
  },
  {
   "cell_type": "code",
   "execution_count": null,
   "metadata": {
    "collapsed": true
   },
   "outputs": [],
   "source": [
    "conn = pymssql.connect(server, user, password, \"tempdb\")\n",
    "cursor = conn.cursor(as_dict=True)\n",
    "\n",
    "cursor.execute('SELECT * FROM persons WHERE salesrep=%s', 'John Doe')\n",
    "for row in cursor:\n",
    "    print(\"ID=%d, Name=%s\" % (row['id'], row['name']))\n",
    "\n",
    "conn.close()"
   ]
  },
  {
   "cell_type": "markdown",
   "metadata": {},
   "source": [
    "### Using With"
   ]
  },
  {
   "cell_type": "code",
   "execution_count": null,
   "metadata": {
    "collapsed": true
   },
   "outputs": [],
   "source": [
    "with pymssql.connect(server, user, password, \"tempdb\") as conn:\n",
    "    with conn.cursor(as_dict=True) as cursor:\n",
    "        cursor.execute('SELECT * FROM persons WHERE salesrep=%s', 'John Doe')\n",
    "        for row in cursor:\n",
    "            print(\"ID=%d, Name=%s\" % (row['id'], row['name']))"
   ]
  },
  {
   "cell_type": "markdown",
   "metadata": {},
   "source": [
    "### Stored Procedure 사용"
   ]
  },
  {
   "cell_type": "code",
   "execution_count": null,
   "metadata": {
    "collapsed": true
   },
   "outputs": [],
   "source": [
    "with pymssql.connect(server, user, password, \"tempdb\") as conn:\n",
    "    with conn.cursor(as_dict=True) as cursor:\n",
    "        cursor.execute(\"\"\"\n",
    "        CREATE PROCEDURE FindPerson\n",
    "            @name VARCHAR(100)\n",
    "        AS BEGIN\n",
    "            SELECT * FROM persons WHERE name = @name\n",
    "        END\n",
    "        \"\"\")\n",
    "        cursor.callproc('FindPerson', ('Jane Doe',))\n",
    "        for row in cursor:\n",
    "            print(\"ID=%d, Name=%s\" % (row['id'], row['name']))"
   ]
  }
 ],
 "metadata": {
  "kernelspec": {
   "display_name": "Python 3",
   "language": "python",
   "name": "python3"
  },
  "language_info": {
   "codemirror_mode": {
    "name": "ipython",
    "version": 3
   },
   "file_extension": ".py",
   "mimetype": "text/x-python",
   "name": "python",
   "nbconvert_exporter": "python",
   "pygments_lexer": "ipython3",
   "version": "3.5.2"
  }
 },
 "nbformat": 4,
 "nbformat_minor": 0
}
