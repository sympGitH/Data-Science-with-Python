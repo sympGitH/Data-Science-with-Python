{
 "cells": [
  {
   "cell_type": "markdown",
   "metadata": {},
   "source": [
    "## InfluxDB Python Client\n",
    "* 메뉴얼 : http://influxdb-python.readthedocs.io/en/latest/\n",
    "* 클라이언트 다운로드 : https://github.com/influxdata/influxdb-python"
   ]
  },
  {
   "cell_type": "code",
   "execution_count": 1,
   "metadata": {
    "collapsed": false
   },
   "outputs": [],
   "source": [
    "from influxdb import InfluxDBClient"
   ]
  },
  {
   "cell_type": "code",
   "execution_count": 2,
   "metadata": {
    "collapsed": true
   },
   "outputs": [],
   "source": [
    "client = InfluxDBClient('localhost', 8086, 'root', 'root', 'telegraf')\n",
    "# client.create_database('example2')"
   ]
  },
  {
   "cell_type": "code",
   "execution_count": 3,
   "metadata": {
    "collapsed": false
   },
   "outputs": [],
   "source": [
    "json_body = [\n",
    "    {\n",
    "        \"measurement\": \"cpu_load_short\",\n",
    "        \"tags\": {\n",
    "            \"host\": \"server01\",\n",
    "            \"region\": \"us-west\"\n",
    "        },\n",
    "        \"time\": \"2009-11-10T23:00:00Z\",\n",
    "        \"fields\": {\n",
    "            \"value\": 0.64\n",
    "        }\n",
    "    }\n",
    "]"
   ]
  },
  {
   "cell_type": "code",
   "execution_count": 4,
   "metadata": {
    "collapsed": false
   },
   "outputs": [
    {
     "data": {
      "text/plain": [
       "True"
      ]
     },
     "execution_count": 4,
     "metadata": {},
     "output_type": "execute_result"
    }
   ],
   "source": [
    "client.write_points(json_body)"
   ]
  },
  {
   "cell_type": "code",
   "execution_count": 19,
   "metadata": {
    "collapsed": false
   },
   "outputs": [
    {
     "name": "stdout",
     "output_type": "stream",
     "text": [
      "Create pandas DataFrame\n",
      "Write DataFrame\n",
      "Write DataFrame with Tags\n",
      "Read DataFrame\n",
      "                            0\n",
      "2016-08-29 00:00:00+00:00   0\n",
      "2016-08-29 01:00:00+00:00   1\n",
      "2016-08-29 02:00:00+00:00   2\n",
      "2016-08-29 03:00:00+00:00   3\n",
      "2016-08-29 04:00:00+00:00   4\n",
      "2016-08-29 05:00:00+00:00   5\n",
      "2016-08-29 06:00:00+00:00   6\n",
      "2016-08-29 07:00:00+00:00   7\n",
      "2016-08-29 08:00:00+00:00   8\n",
      "2016-08-29 09:00:00+00:00   9\n",
      "2016-08-29 10:00:00+00:00  10\n",
      "2016-08-29 11:00:00+00:00  11\n",
      "2016-08-29 12:00:00+00:00  12\n",
      "2016-08-29 13:00:00+00:00  13\n",
      "2016-08-29 14:00:00+00:00  14\n",
      "2016-08-29 15:00:00+00:00  15\n",
      "2016-08-29 16:00:00+00:00  16\n",
      "2016-08-29 17:00:00+00:00  17\n",
      "2016-08-29 18:00:00+00:00  18\n",
      "2016-08-29 19:00:00+00:00  19\n",
      "2016-08-29 20:00:00+00:00  20\n",
      "2016-08-29 21:00:00+00:00  21\n",
      "2016-08-29 22:00:00+00:00  22\n",
      "2016-08-29 23:00:00+00:00  23\n",
      "2016-08-30 00:00:00+00:00  24\n",
      "2016-08-30 01:00:00+00:00  25\n",
      "2016-08-30 02:00:00+00:00  26\n",
      "2016-08-30 03:00:00+00:00  27\n",
      "2016-08-30 04:00:00+00:00  28\n",
      "2016-08-30 05:00:00+00:00  29\n",
      "...                        ..\n",
      "2016-08-31 22:00:00+00:00  70\n",
      "2016-08-31 23:00:00+00:00  71\n",
      "2016-09-01 00:00:00+00:00  72\n",
      "2016-09-01 01:00:00+00:00  73\n",
      "2016-09-01 02:00:00+00:00  74\n",
      "2016-09-01 03:00:00+00:00  75\n",
      "2016-09-01 04:00:00+00:00  76\n",
      "2016-09-01 05:00:00+00:00  77\n",
      "2016-09-01 06:00:00+00:00  78\n",
      "2016-09-01 07:00:00+00:00  79\n",
      "2016-09-01 08:00:00+00:00  80\n",
      "2016-09-01 09:00:00+00:00  81\n",
      "2016-09-01 10:00:00+00:00  82\n",
      "2016-09-01 11:00:00+00:00  83\n",
      "2016-09-01 12:00:00+00:00  84\n",
      "2016-09-01 13:00:00+00:00  85\n",
      "2016-09-01 14:00:00+00:00  86\n",
      "2016-09-01 15:00:00+00:00  87\n",
      "2016-09-01 16:00:00+00:00  88\n",
      "2016-09-01 17:00:00+00:00  89\n",
      "2016-09-01 18:00:00+00:00  90\n",
      "2016-09-01 19:00:00+00:00  91\n",
      "2016-09-01 20:00:00+00:00  92\n",
      "2016-09-01 21:00:00+00:00  93\n",
      "2016-09-01 22:00:00+00:00  94\n",
      "2016-09-01 23:00:00+00:00  95\n",
      "2016-09-02 00:00:00+00:00  96\n",
      "2016-09-02 01:00:00+00:00  97\n",
      "2016-09-02 02:00:00+00:00  98\n",
      "2016-09-02 03:00:00+00:00  99\n",
      "\n",
      "[100 rows x 1 columns]\n"
     ]
    }
   ],
   "source": [
    "import argparse\n",
    "import pandas as pd\n",
    "\n",
    "from influxdb import DataFrameClient\n",
    "\n",
    "\n",
    "def pandas_test(host='localhost', port=8086):\n",
    "    user = 'root'\n",
    "    password = 'root'\n",
    "    dbname = 'example'\n",
    "\n",
    "    client = DataFrameClient(host, port, user, password, dbname)\n",
    "\n",
    "    print(\"Create pandas DataFrame\")\n",
    "    df = pd.DataFrame(data=list(range(100)),\n",
    "                      index=pd.date_range(start='2016-08-29',\n",
    "                                          periods=100, freq='H'))\n",
    "\n",
    "    print(\"Write DataFrame\")\n",
    "    client.write_points(df, 'demo')\n",
    "\n",
    "    print(\"Write DataFrame with Tags\")\n",
    "    client.write_points(df, 'demo', {'k1': 'v1', 'k2': 'v2'})\n",
    "\n",
    "    print(\"Read DataFrame\")\n",
    "    client.query(\"select * from demo\")\n",
    "    \n",
    "    print(df)\n",
    "\n",
    "    \n",
    "pandas_test()"
   ]
  },
  {
   "cell_type": "code",
   "execution_count": null,
   "metadata": {
    "collapsed": true
   },
   "outputs": [],
   "source": []
  },
  {
   "cell_type": "markdown",
   "metadata": {
    "collapsed": true
   },
   "source": [
    "client.create_user('koon', 'koon', admin=True)"
   ]
  },
  {
   "cell_type": "code",
   "execution_count": 3,
   "metadata": {
    "collapsed": true
   },
   "outputs": [],
   "source": [
    "client.create_user('telegraf', 'telegraf', admin=True)"
   ]
  },
  {
   "cell_type": "code",
   "execution_count": 6,
   "metadata": {
    "collapsed": false
   },
   "outputs": [
    {
     "data": {
      "text/plain": [
       "[{'name': '_internal'},\n",
       " {'name': 'mydb'},\n",
       " {'name': 'example'},\n",
       " {'name': 'example2'}]"
      ]
     },
     "execution_count": 6,
     "metadata": {},
     "output_type": "execute_result"
    }
   ],
   "source": [
    "client.get_list_database()"
   ]
  },
  {
   "cell_type": "code",
   "execution_count": 7,
   "metadata": {
    "collapsed": false
   },
   "outputs": [
    {
     "data": {
      "text/plain": [
       "[{'admin': True, 'user': 'koon'}]"
      ]
     },
     "execution_count": 7,
     "metadata": {},
     "output_type": "execute_result"
    }
   ],
   "source": [
    "client.get_list_users()"
   ]
  },
  {
   "cell_type": "code",
   "execution_count": 8,
   "metadata": {
    "collapsed": false
   },
   "outputs": [
    {
     "data": {
      "text/plain": [
       "ResultSet({'('cpu_load_short', None)': [{'host': 'server01', 'value': 0.64, 'region': 'us-west', 'time': '2009-11-10T23:00:00Z'}]})"
      ]
     },
     "execution_count": 8,
     "metadata": {},
     "output_type": "execute_result"
    }
   ],
   "source": [
    "client.query('select * from cpu_load_short', database='example')"
   ]
  },
  {
   "cell_type": "code",
   "execution_count": 17,
   "metadata": {
    "collapsed": false
   },
   "outputs": [
    {
     "ename": "AttributeError",
     "evalue": "'InfluxDBClient' object has no attribute 'change_database'",
     "output_type": "error",
     "traceback": [
      "\u001b[0;31m---------------------------------------------------------------------------\u001b[0m",
      "\u001b[0;31mAttributeError\u001b[0m                            Traceback (most recent call last)",
      "\u001b[0;32m<ipython-input-17-882f1e64bc57>\u001b[0m in \u001b[0;36m<module>\u001b[0;34m()\u001b[0m\n\u001b[0;32m----> 1\u001b[0;31m \u001b[0mclient\u001b[0m\u001b[0;34m.\u001b[0m\u001b[0mchange_database\u001b[0m\u001b[0;34m(\u001b[0m\u001b[0;34m'example2'\u001b[0m\u001b[0;34m)\u001b[0m\u001b[0;34m\u001b[0m\u001b[0m\n\u001b[0m",
      "\u001b[0;31mAttributeError\u001b[0m: 'InfluxDBClient' object has no attribute 'change_database'"
     ]
    }
   ],
   "source": []
  },
  {
   "cell_type": "code",
   "execution_count": 23,
   "metadata": {
    "collapsed": false
   },
   "outputs": [],
   "source": [
    "import time\n",
    "from influxdb import InfluxDBClient\n",
    "\n",
    "class InfluxDB :\n",
    "    m_conn = None\n",
    "    def __init__(self) :\n",
    "        pass\n",
    "\n",
    "    def open(self) :\n",
    "        bConti = True\n",
    "        while bConti :\n",
    "            try :\n",
    "                self.m_dConn = InfluxDBClient('localhost', 8086, 'koon', 'koon', 'mydb')\n",
    "                bConti = False\n",
    "            except Exception:\n",
    "                time.sleep(CmpGlobal.g_nConnectionRetryInterval)\n",
    "                print(\"--------------------------------- influxdb connect fail -------------------------------------\")\n",
    "                \n",
    "    def insertData(self, jsondata) :\n",
    "        print(\"Write points: {0}\".format(jsondata))\n",
    "        self.m_dConn.write_points(jsondata)\n",
    "\n",
    "class InfluxDBManager :\n",
    "    m_oDBConn = None\n",
    "    \n",
    "    def __init__(self) :\n",
    "        self.m_oDBConn = InfluxDB()\n",
    "        self.m_oDBConn.open()\n",
    "\n",
    "    def insert(self, nNodeId, watt, apc, pfc, pfcval, ipeak, vpeak) :\n",
    "        json_meter_body = [\n",
    "            {\n",
    "                \"measurement\": \"officepower\",\n",
    "                \"tags\": {\n",
    "                    \"node\":  nNodeId\n",
    "                },\n",
    "                \"fields\": {\n",
    "                    \"watt\":  watt,\n",
    "                    \"apc\":  apc,\n",
    "                    \"pfc\":  pfc,\n",
    "                    \"pfcval\": pfcval,\n",
    "                    \"ipeak\" : ipeak,\n",
    "                    \"vpeak\" : vpeak\n",
    "                }\n",
    "            }\n",
    "        ]\n",
    "        self.m_oDBConn.insertData(json_meter_body)\n",
    "        return 0"
   ]
  },
  {
   "cell_type": "code",
   "execution_count": 28,
   "metadata": {
    "collapsed": false
   },
   "outputs": [],
   "source": [
    "g_influxdbconn = InfluxDBManager()\n",
    "\n",
    "# 아래와 같이 입력함.\n",
    "#  g_influxdbconn.insert(nNodeId,wattVal,dWattFactor,dPowerFactor,pftVal,iPeak,vPeak)"
   ]
  },
  {
   "cell_type": "code",
   "execution_count": 29,
   "metadata": {
    "collapsed": false
   },
   "outputs": [
    {
     "name": "stdout",
     "output_type": "stream",
     "text": [
      "Write points: [{'tags': {'node': 'Host01'}, 'measurement': 'officepower', 'fields': {'pfcval': 1, 'watt': 300, 'ipeak': 30, 'pfc': 10, 'vpeak': 20, 'apc': 20}}]\n"
     ]
    },
    {
     "data": {
      "text/plain": [
       "0"
      ]
     },
     "execution_count": 29,
     "metadata": {},
     "output_type": "execute_result"
    }
   ],
   "source": [
    "g_influxdbconn.insert('Host01', 300, 20, 10, 1, 30, 20)"
   ]
  },
  {
   "cell_type": "markdown",
   "metadata": {},
   "source": [
    "### DataframeClient with Pandas 예제\n",
    "* https://github.com/influxdata/influxdb-python/tree/master/examples"
   ]
  },
  {
   "cell_type": "code",
   "execution_count": 36,
   "metadata": {
    "collapsed": false
   },
   "outputs": [
    {
     "name": "stdout",
     "output_type": "stream",
     "text": [
      "Create pandas DataFrame\n",
      "Create database: example3\n",
      "Write DataFrame\n",
      "Write DataFrame with Tags\n",
      "Read DataFrame\n"
     ]
    }
   ],
   "source": [
    "import argparse\n",
    "import pandas as pd\n",
    "\n",
    "from influxdb import DataFrameClient\n",
    "\n",
    "\n",
    "def main(host='localhost', port=8086):\n",
    "    user = 'root'\n",
    "    password = 'root'\n",
    "    dbname = 'example3'\n",
    "\n",
    "    client = DataFrameClient(host, port, user, password, dbname)\n",
    "\n",
    "    print(\"Create pandas DataFrame\")\n",
    "    df = pd.DataFrame(data=list(range(30)),\n",
    "                      index=pd.date_range(start='2014-11-16',\n",
    "                                          periods=30, freq='H'))\n",
    "\n",
    "    print(\"Create database: \" + dbname)\n",
    "    client.create_database(dbname)\n",
    "\n",
    "    print(\"Write DataFrame\")\n",
    "    client.write_points(df, 'demo')\n",
    "\n",
    "    print(\"Write DataFrame with Tags\")\n",
    "    client.write_points(df, 'demo', {'k1': 'v1', 'k2': 'v2'})\n",
    "\n",
    "    print(\"Read DataFrame\")\n",
    "    client.query(\"select * from demo\")\n",
    "\n",
    "    #print(\"Delete database: \" + dbname)\n",
    "    #client.drop_database(dbname)\n",
    "\n",
    "\n",
    "def parse_args():\n",
    "    parser = argparse.ArgumentParser(\n",
    "        description='example code to play with InfluxDB')\n",
    "    parser.add_argument('--host', type=str, required=False,\n",
    "                        default='localhost',\n",
    "                        help='hostname of InfluxDB http API')\n",
    "    parser.add_argument('--port', type=int, required=False, default=8086,\n",
    "                        help='port of InfluxDB http API')\n",
    "    return parser.parse_args()\n",
    "\n",
    "if __name__ == '__main__':\n",
    "    main()\n",
    "    #args = parse_args()\n",
    "    #main(host=args.host, port=args.port)"
   ]
  },
  {
   "cell_type": "code",
   "execution_count": null,
   "metadata": {
    "collapsed": true
   },
   "outputs": [],
   "source": []
  }
 ],
 "metadata": {
  "anaconda-cloud": {},
  "kernelspec": {
   "display_name": "Python [Py35]",
   "language": "python",
   "name": "Python [Py35]"
  },
  "language_info": {
   "codemirror_mode": {
    "name": "ipython",
    "version": 3
   },
   "file_extension": ".py",
   "mimetype": "text/x-python",
   "name": "python",
   "nbconvert_exporter": "python",
   "pygments_lexer": "ipython3",
   "version": "3.5.2"
  }
 },
 "nbformat": 4,
 "nbformat_minor": 0
}
